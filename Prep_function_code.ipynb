{
  "nbformat": 4,
  "nbformat_minor": 0,
  "metadata": {
    "colab": {
      "name": "Prep function code.ipynb",
      "provenance": [],
      "collapsed_sections": []
    },
    "kernelspec": {
      "name": "python3",
      "display_name": "Python 3"
    },
    "language_info": {
      "name": "python"
    }
  },
  "cells": [
    {
      "cell_type": "code",
      "metadata": {
        "colab": {
          "base_uri": "https://localhost:8080/"
        },
        "id": "Mq8NfMtY0ufz",
        "outputId": "876d347e-e625-44fe-f83c-70d3aa5d9ba9"
      },
      "source": [
        "!pip install vaderSentiment\n",
        "import numpy as np\n",
        "import pandas as pd\n",
        "import scipy.stats as stats\n",
        "import seaborn as sns\n",
        "import math\n",
        "\n",
        "\n",
        "def prepare_data(data):\n",
        "    new_dataframes = []\n",
        "    for dataframe in data:\n",
        "        dataframe['compound'] = [analyzer.polarity_scores(x)['compound'] for x in dataframe['TITLE']]\n",
        "        dataframe['neg'] = [analyzer.polarity_scores(x)['neg'] for x in dataframe['TITLE']]\n",
        "        dataframe['neu'] = [analyzer.polarity_scores(x)['neu'] for x in dataframe['TITLE']]\n",
        "        dataframe['pos'] = [analyzer.polarity_scores(x)['pos'] for x in dataframe['TITLE']]\n",
        "        new_dataframes.append(dataframe)\n",
        "    return new_dataframes\n",
        "\n",
        "\n",
        "def prepare_input_vector(data):\n",
        "    vectors = []\n",
        "    for item in data:\n",
        "        avg_compound = item['compound'].mean()\n",
        "        avg_neg = item['neg'].mean()\n",
        "        avg_neu = item['neu'].mean()\n",
        "        avg_pos = item['pos'].mean()\n",
        "        number_of_posts = len(item.index)\n",
        "        vector = [avg_compound, avg_neg, avg_pos, avg_neu, number_of_posts]\n",
        "        vectors.append(vector)\n",
        "    return vectors"
      ],
      "execution_count": 2,
      "outputs": [
        {
          "output_type": "stream",
          "name": "stdout",
          "text": [
            "Collecting vaderSentiment\n",
            "  Using cached vaderSentiment-3.3.2-py2.py3-none-any.whl (125 kB)\n",
            "Requirement already satisfied: requests in /usr/local/lib/python3.7/dist-packages (from vaderSentiment) (2.23.0)\n",
            "Requirement already satisfied: idna<3,>=2.5 in /usr/local/lib/python3.7/dist-packages (from requests->vaderSentiment) (2.10)\n",
            "Requirement already satisfied: urllib3!=1.25.0,!=1.25.1,<1.26,>=1.21.1 in /usr/local/lib/python3.7/dist-packages (from requests->vaderSentiment) (1.24.3)\n",
            "Requirement already satisfied: certifi>=2017.4.17 in /usr/local/lib/python3.7/dist-packages (from requests->vaderSentiment) (2021.10.8)\n",
            "Requirement already satisfied: chardet<4,>=3.0.2 in /usr/local/lib/python3.7/dist-packages (from requests->vaderSentiment) (3.0.4)\n",
            "Installing collected packages: vaderSentiment\n",
            "Successfully installed vaderSentiment-3.3.2\n"
          ]
        }
      ]
    }
  ]
}